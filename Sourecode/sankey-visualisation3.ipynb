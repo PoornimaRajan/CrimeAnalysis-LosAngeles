{
 "cells": [
  {
   "cell_type": "code",
   "execution_count": 1,
   "metadata": {},
   "outputs": [],
   "source": [
    "import pandas as pd\n",
    "data = pd.read_csv('C:/Users/poorn/Downloads/crime-in-los-angeles/Crime.csv')"
   ]
  },
  {
   "cell_type": "code",
   "execution_count": 2,
   "metadata": {},
   "outputs": [],
   "source": [
    "dataset=pd.DataFrame(data);"
   ]
  },
  {
   "cell_type": "code",
   "execution_count": 3,
   "metadata": {},
   "outputs": [],
   "source": [
    "dataset['year'] = pd.DatetimeIndex(dataset['Date Occurred']).year "
   ]
  },
  {
   "cell_type": "code",
   "execution_count": 4,
   "metadata": {},
   "outputs": [],
   "source": [
    "sankey = pd.DataFrame({'count' : dataset.groupby(['year','Victim Sex','Area Name'])['Area ID'].count()}).reset_index()"
   ]
  },
  {
   "cell_type": "code",
   "execution_count": 21,
   "metadata": {},
   "outputs": [
    {
     "data": {
      "text/plain": [
       "'temp-plot.html'"
      ]
     },
     "execution_count": 21,
     "metadata": {},
     "output_type": "execute_result"
    }
   ],
   "source": [
    "import pandas as pd\n",
    "import plotly\n",
    "import chart_studio.plotly as py\n",
    "def generateSankey(datas,column=[],values='',title='Crime Analysis'):\n",
    "    \n",
    "    colors = ['#4B8BBE','#306998','#FFE873','#FFD43B','#646464']\n",
    "    labelLists = []\n",
    "    colorNumLists = []\n",
    "    for col in column:\n",
    "        labelListTemps =  list(set(datas[col].values))\n",
    "        colorNumLists.append(len(labelListTemps))\n",
    "        labelLists = labelLists + labelListTemps\n",
    "        \n",
    "    \n",
    "    labelLists = list(dict.fromkeys(labelLists))\n",
    "    \n",
    "    \n",
    "    colorLists = []\n",
    "    for id, colorNums in enumerate(colorNumLists):\n",
    "        colorLists = colorLists + [colors[id]]*colorNums\n",
    "        \n",
    "    \n",
    "    for i in range(len(column)-1):\n",
    "        if i==0:\n",
    "            sourceTargetDfs = datas[[column[i],column[i+1],values]]\n",
    "            sourceTargetDfs.columns = ['source','target','count']\n",
    "        else:\n",
    "            tempDfs = datas[[column[i],column[i+1],values]]\n",
    "            tempDfs.columns = ['source','target','count']\n",
    "            sourceTargetDfs = pd.concat([sourceTargetDfs,tempDfs])\n",
    "        sourceTargetDfs = sourceTargetDfs.groupby(['source','target']).agg({'count':'sum'}).reset_index()\n",
    "        \n",
    "    \n",
    "    sourceTargetDfs['sourceID'] = sourceTargetDfs['source'].apply(lambda x: labelLists.index(x))\n",
    "    sourceTargetDfs['targetID'] = sourceTargetDfs['target'].apply(lambda x: labelLists.index(x))\n",
    "    \n",
    "    \n",
    "    fin = dict(\n",
    "        type='sankey',\n",
    "        node = dict(\n",
    "          pad = 15,\n",
    "          thickness = 20,\n",
    "          line = dict(\n",
    "            color = \"black\",\n",
    "            width = 0.5\n",
    "          ),\n",
    "          label = labelLists,\n",
    "          color = colorLists\n",
    "        ),\n",
    "        link = dict(\n",
    "          source = sourceTargetDfs['sourceID'],\n",
    "          target = sourceTargetDfs['targetID'],\n",
    "          value = sourceTargetDfs['count']\n",
    "        )\n",
    "      )\n",
    "    \n",
    "    layout =  dict(\n",
    "        title = title,\n",
    "        font = dict(\n",
    "          size = 12\n",
    "        )\n",
    "    )\n",
    "       \n",
    "    figs = dict(data=[fin], layout=layout)\n",
    "    return figs\n",
    "\n",
    "\n",
    "\n",
    "fig = generateSankey(sankey,column=['year','Victim Sex','Area Name'],values= 'count',title='Crime Analysis')\n",
    "plotly.offline.plot(fig, validate=False)"
   ]
  },
  {
   "cell_type": "code",
   "execution_count": null,
   "metadata": {},
   "outputs": [],
   "source": []
  },
  {
   "cell_type": "code",
   "execution_count": null,
   "metadata": {},
   "outputs": [],
   "source": []
  }
 ],
 "metadata": {
  "kernelspec": {
   "display_name": "Python 3",
   "language": "python",
   "name": "python3"
  },
  "language_info": {
   "codemirror_mode": {
    "name": "ipython",
    "version": 3
   },
   "file_extension": ".py",
   "mimetype": "text/x-python",
   "name": "python",
   "nbconvert_exporter": "python",
   "pygments_lexer": "ipython3",
   "version": "3.7.3"
  }
 },
 "nbformat": 4,
 "nbformat_minor": 2
}
